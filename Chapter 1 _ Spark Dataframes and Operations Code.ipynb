{
 "cells": [
  {
   "cell_type": "markdown",
   "metadata": {
    "application/vnd.databricks.v1+cell": {
     "cellMetadata": {},
     "inputWidgets": {},
     "nuid": "7f1436a0-3357-4850-b507-a12c76e60c22",
     "showTitle": false,
     "tableResultSettingsMap": {},
     "title": ""
    }
   },
   "source": [
    "# Chapter 1 : Spark Dataframes and Operations Code"
   ]
  },
  {
   "cell_type": "markdown",
   "metadata": {
    "application/vnd.databricks.v1+cell": {
     "cellMetadata": {},
     "inputWidgets": {},
     "nuid": "c8b85703-a9de-4ac7-892a-b1fb92ac4442",
     "showTitle": false,
     "tableResultSettingsMap": {},
     "title": ""
    }
   },
   "source": [
    "Create Dataframe Operations"
   ]
  },
  {
   "cell_type": "code",
   "execution_count": 0,
   "metadata": {
    "application/vnd.databricks.v1+cell": {
     "cellMetadata": {
      "byteLimit": 2048000,
      "rowLimit": 10000
     },
     "inputWidgets": {},
     "nuid": "0269a412-f57f-4c05-b079-4f7236b5cbc8",
     "showTitle": true,
     "tableResultSettingsMap": {},
     "title": "Create Dataframe from list of rows"
    }
   },
   "outputs": [],
   "source": [
    "import pandas as pd\n",
    "from datetime import datetime, date\n",
    "from pyspark.sql import Row\n",
    "\n",
    "data_df = spark.createDataFrame([\n",
    "    Row(col_1=100, col_2=200., col_3='string_test_1', col_4=date(2023, 1, 1), col_5=datetime(2023, 1, 1, 12, 0)),\n",
    "    Row(col_1=200, col_2=300., col_3='string_test_2', col_4=date(2023, 2, 1), col_5=datetime(2023, 1, 2, 12, 0)),\n",
    "    Row(col_1=400, col_2=500., col_3='string_test_3', col_4=date(2023, 3, 1), col_5=datetime(2023, 1, 3, 12, 0))\n",
    "])\n"
   ]
  },
  {
   "cell_type": "code",
   "execution_count": 0,
   "metadata": {
    "application/vnd.databricks.v1+cell": {
     "cellMetadata": {
      "byteLimit": 2048000,
      "rowLimit": 10000
     },
     "inputWidgets": {},
     "nuid": "2a5a3e20-f96a-4387-b4be-5a2753526fbf",
     "showTitle": false,
     "tableResultSettingsMap": {},
     "title": ""
    }
   },
   "outputs": [
    {
     "output_type": "display_data",
     "data": {
      "text/html": [
       "<style scoped>\n",
       "  .table-result-container {\n",
       "    max-height: 300px;\n",
       "    overflow: auto;\n",
       "  }\n",
       "  table, th, td {\n",
       "    border: 1px solid black;\n",
       "    border-collapse: collapse;\n",
       "  }\n",
       "  th, td {\n",
       "    padding: 5px;\n",
       "  }\n",
       "  th {\n",
       "    text-align: left;\n",
       "  }\n",
       "</style><div class='table-result-container'><table class='table-result'><thead style='background-color: white'><tr><th>col_1</th><th>col_2</th><th>col_3</th><th>col_4</th><th>col_5</th></tr></thead><tbody><tr><td>100</td><td>200.0</td><td>string_test_1</td><td>2023-01-01</td><td>2023-01-01T12:00:00Z</td></tr><tr><td>200</td><td>300.0</td><td>string_test_2</td><td>2023-02-01</td><td>2023-01-02T12:00:00Z</td></tr><tr><td>400</td><td>500.0</td><td>string_test_3</td><td>2023-03-01</td><td>2023-01-03T12:00:00Z</td></tr></tbody></table></div>"
      ]
     },
     "metadata": {
      "application/vnd.databricks.v1+output": {
       "addedWidgets": {},
       "aggData": [],
       "aggError": "",
       "aggOverflow": false,
       "aggSchema": [],
       "aggSeriesLimitReached": false,
       "aggType": "",
       "arguments": {},
       "columnCustomDisplayInfos": {},
       "data": [
        [
         100,
         200.0,
         "string_test_1",
         "2023-01-01",
         "2023-01-01T12:00:00Z"
        ],
        [
         200,
         300.0,
         "string_test_2",
         "2023-02-01",
         "2023-01-02T12:00:00Z"
        ],
        [
         400,
         500.0,
         "string_test_3",
         "2023-03-01",
         "2023-01-03T12:00:00Z"
        ]
       ],
       "datasetInfos": [],
       "dbfsResultPath": null,
       "isJsonSchema": true,
       "metadata": {},
       "overflow": false,
       "plotOptions": {
        "customPlotOptions": {},
        "displayType": "table",
        "pivotAggregation": null,
        "pivotColumns": null,
        "xColumns": null,
        "yColumns": null
       },
       "removedWidgets": [],
       "schema": [
        {
         "metadata": "{}",
         "name": "col_1",
         "type": "\"long\""
        },
        {
         "metadata": "{}",
         "name": "col_2",
         "type": "\"double\""
        },
        {
         "metadata": "{}",
         "name": "col_3",
         "type": "\"string\""
        },
        {
         "metadata": "{}",
         "name": "col_4",
         "type": "\"date\""
        },
        {
         "metadata": "{}",
         "name": "col_5",
         "type": "\"timestamp\""
        }
       ],
       "type": "table"
      }
     },
     "output_type": "display_data"
    }
   ],
   "source": [
    "display(data_df)"
   ]
  },
  {
   "cell_type": "code",
   "execution_count": 0,
   "metadata": {
    "application/vnd.databricks.v1+cell": {
     "cellMetadata": {
      "byteLimit": 2048000,
      "rowLimit": 10000
     },
     "inputWidgets": {},
     "nuid": "70b00e29-29b9-47c6-9353-aecc105f5aba",
     "showTitle": true,
     "tableResultSettingsMap": {},
     "title": "Create Dataframe from list of rows using schema"
    }
   },
   "outputs": [],
   "source": [
    "import pandas as pd\n",
    "from datetime import datetime, date\n",
    "from pyspark.sql import Row\n",
    "\n",
    "data_df = spark.createDataFrame([\n",
    "    Row(col_1=100, col_2=200., col_3='string_test_1', col_4=date(2023, 1, 1), col_5=datetime(2023, 1, 1, 12, 0)),\n",
    "    Row(col_1=200, col_2=300., col_3='string_test_2', col_4=date(2023, 2, 1), col_5=datetime(2023, 1, 2, 12, 0)),\n",
    "    Row(col_1=400, col_2=500., col_3='string_test_3', col_4=date(2023, 3, 1), col_5=datetime(2023, 1, 3, 12, 0))\n",
    "], schema=' col_1 long, col_2 double, col_3 string, col_4 date, col_5 timestamp')\n"
   ]
  },
  {
   "cell_type": "code",
   "execution_count": 0,
   "metadata": {
    "application/vnd.databricks.v1+cell": {
     "cellMetadata": {
      "byteLimit": 2048000,
      "rowLimit": 10000
     },
     "inputWidgets": {},
     "nuid": "dbe1949f-4141-44be-a87c-05ebf4cb932e",
     "showTitle": false,
     "tableResultSettingsMap": {},
     "title": ""
    }
   },
   "outputs": [
    {
     "output_type": "display_data",
     "data": {
      "text/html": [
       "<style scoped>\n",
       "  .table-result-container {\n",
       "    max-height: 300px;\n",
       "    overflow: auto;\n",
       "  }\n",
       "  table, th, td {\n",
       "    border: 1px solid black;\n",
       "    border-collapse: collapse;\n",
       "  }\n",
       "  th, td {\n",
       "    padding: 5px;\n",
       "  }\n",
       "  th {\n",
       "    text-align: left;\n",
       "  }\n",
       "</style><div class='table-result-container'><table class='table-result'><thead style='background-color: white'><tr><th>col_1</th><th>col_2</th><th>col_3</th><th>col_4</th><th>col_5</th></tr></thead><tbody><tr><td>100</td><td>200.0</td><td>string_test_1</td><td>2023-01-01</td><td>2023-01-01T12:00:00Z</td></tr><tr><td>200</td><td>300.0</td><td>string_test_2</td><td>2023-02-01</td><td>2023-01-02T12:00:00Z</td></tr><tr><td>400</td><td>500.0</td><td>string_test_3</td><td>2023-03-01</td><td>2023-01-03T12:00:00Z</td></tr></tbody></table></div>"
      ]
     },
     "metadata": {
      "application/vnd.databricks.v1+output": {
       "addedWidgets": {},
       "aggData": [],
       "aggError": "",
       "aggOverflow": false,
       "aggSchema": [],
       "aggSeriesLimitReached": false,
       "aggType": "",
       "arguments": {},
       "columnCustomDisplayInfos": {},
       "data": [
        [
         100,
         200.0,
         "string_test_1",
         "2023-01-01",
         "2023-01-01T12:00:00Z"
        ],
        [
         200,
         300.0,
         "string_test_2",
         "2023-02-01",
         "2023-01-02T12:00:00Z"
        ],
        [
         400,
         500.0,
         "string_test_3",
         "2023-03-01",
         "2023-01-03T12:00:00Z"
        ]
       ],
       "datasetInfos": [],
       "dbfsResultPath": null,
       "isJsonSchema": true,
       "metadata": {},
       "overflow": false,
       "plotOptions": {
        "customPlotOptions": {},
        "displayType": "table",
        "pivotAggregation": null,
        "pivotColumns": null,
        "xColumns": null,
        "yColumns": null
       },
       "removedWidgets": [],
       "schema": [
        {
         "metadata": "{}",
         "name": "col_1",
         "type": "\"long\""
        },
        {
         "metadata": "{}",
         "name": "col_2",
         "type": "\"double\""
        },
        {
         "metadata": "{}",
         "name": "col_3",
         "type": "\"string\""
        },
        {
         "metadata": "{}",
         "name": "col_4",
         "type": "\"date\""
        },
        {
         "metadata": "{}",
         "name": "col_5",
         "type": "\"timestamp\""
        }
       ],
       "type": "table"
      }
     },
     "output_type": "display_data"
    }
   ],
   "source": [
    "display(data_df)"
   ]
  },
  {
   "cell_type": "code",
   "execution_count": 0,
   "metadata": {
    "application/vnd.databricks.v1+cell": {
     "cellMetadata": {
      "byteLimit": 2048000,
      "rowLimit": 10000
     },
     "inputWidgets": {},
     "nuid": "d0238c11-4d56-4175-89b2-bb4ddcc4976a",
     "showTitle": true,
     "tableResultSettingsMap": {},
     "title": "Create Dataframe from pandas dataframe"
    }
   },
   "outputs": [],
   "source": [
    "import pandas as pd\n",
    "from datetime import datetime, date\n",
    "from pyspark.sql import Row\n",
    "\n",
    "pandas_df = pd.DataFrame({\n",
    "    'col_1': [100, 200, 400],\n",
    "    'col_2': [200., 300., 500.],\n",
    "    'col_3': ['string_test_1', 'string_test_2', 'string_test_3'],\n",
    "    'col_4': [date(2023, 1, 1), date(2023, 2, 1), date(2023, 3, 1)],\n",
    "    'col_5': [datetime(2023, 1, 1, 12, 0), datetime(2023, 1, 2, 12, 0), datetime(2023, 1, 3, 12, 0)]\n",
    "})\n",
    "df = spark.createDataFrame(pandas_df)\n"
   ]
  },
  {
   "cell_type": "code",
   "execution_count": 0,
   "metadata": {
    "application/vnd.databricks.v1+cell": {
     "cellMetadata": {
      "byteLimit": 2048000,
      "rowLimit": 10000
     },
     "inputWidgets": {},
     "nuid": "bbe4ecd2-14cd-44b9-b8b2-6a849e8ea27f",
     "showTitle": false,
     "tableResultSettingsMap": {},
     "title": ""
    }
   },
   "outputs": [
    {
     "output_type": "display_data",
     "data": {
      "text/html": [
       "<style scoped>\n",
       "  .table-result-container {\n",
       "    max-height: 300px;\n",
       "    overflow: auto;\n",
       "  }\n",
       "  table, th, td {\n",
       "    border: 1px solid black;\n",
       "    border-collapse: collapse;\n",
       "  }\n",
       "  th, td {\n",
       "    padding: 5px;\n",
       "  }\n",
       "  th {\n",
       "    text-align: left;\n",
       "  }\n",
       "</style><div class='table-result-container'><table class='table-result'><thead style='background-color: white'><tr><th>col_1</th><th>col_2</th><th>col_3</th><th>col_4</th><th>col_5</th></tr></thead><tbody><tr><td>100</td><td>200.0</td><td>string_test_1</td><td>2023-01-01</td><td>2023-01-01T12:00:00Z</td></tr><tr><td>200</td><td>300.0</td><td>string_test_2</td><td>2023-02-01</td><td>2023-01-02T12:00:00Z</td></tr><tr><td>400</td><td>500.0</td><td>string_test_3</td><td>2023-03-01</td><td>2023-01-03T12:00:00Z</td></tr></tbody></table></div>"
      ]
     },
     "metadata": {
      "application/vnd.databricks.v1+output": {
       "addedWidgets": {},
       "aggData": [],
       "aggError": "",
       "aggOverflow": false,
       "aggSchema": [],
       "aggSeriesLimitReached": false,
       "aggType": "",
       "arguments": {},
       "columnCustomDisplayInfos": {},
       "data": [
        [
         100,
         200.0,
         "string_test_1",
         "2023-01-01",
         "2023-01-01T12:00:00Z"
        ],
        [
         200,
         300.0,
         "string_test_2",
         "2023-02-01",
         "2023-01-02T12:00:00Z"
        ],
        [
         400,
         500.0,
         "string_test_3",
         "2023-03-01",
         "2023-01-03T12:00:00Z"
        ]
       ],
       "datasetInfos": [],
       "dbfsResultPath": null,
       "isJsonSchema": true,
       "metadata": {},
       "overflow": false,
       "plotOptions": {
        "customPlotOptions": {},
        "displayType": "table",
        "pivotAggregation": null,
        "pivotColumns": null,
        "xColumns": null,
        "yColumns": null
       },
       "removedWidgets": [],
       "schema": [
        {
         "metadata": "{}",
         "name": "col_1",
         "type": "\"long\""
        },
        {
         "metadata": "{}",
         "name": "col_2",
         "type": "\"double\""
        },
        {
         "metadata": "{}",
         "name": "col_3",
         "type": "\"string\""
        },
        {
         "metadata": "{}",
         "name": "col_4",
         "type": "\"date\""
        },
        {
         "metadata": "{}",
         "name": "col_5",
         "type": "\"timestamp\""
        }
       ],
       "type": "table"
      }
     },
     "output_type": "display_data"
    }
   ],
   "source": [
    "display(df)"
   ]
  },
  {
   "cell_type": "code",
   "execution_count": 0,
   "metadata": {
    "application/vnd.databricks.v1+cell": {
     "cellMetadata": {
      "byteLimit": 2048000,
      "rowLimit": 10000
     },
     "inputWidgets": {},
     "nuid": "a1791d2e-ff43-4557-ad31-a2d92c3a21a8",
     "showTitle": false,
     "tableResultSettingsMap": {},
     "title": ""
    }
   },
   "outputs": [],
   "source": [
    "from datetime import datetime, date\n",
    "from pyspark.sql import SparkSession\n",
    "\n",
    "spark = SparkSession.builder.getOrCreate()\n",
    "\n",
    "rdd = spark.sparkContext.parallelize([\n",
    "    (100, 200., 'string_test_1', date(2023, 1, 1), datetime(2023, 1, 1, 12, 0)),\n",
    "    (200, 300., 'string_test_2', date(2023, 2, 1), datetime(2023, 1, 2, 12, 0)),\n",
    "    (300, 400., 'string_test_3', date(2023, 3, 1), datetime(2023, 1, 3, 12, 0))\n",
    "])\n",
    "data_df = spark.createDataFrame(rdd, schema=['col_1', 'col_2', 'col_3', 'col_4', 'col_5'])"
   ]
  },
  {
   "cell_type": "markdown",
   "metadata": {
    "application/vnd.databricks.v1+cell": {
     "cellMetadata": {},
     "inputWidgets": {},
     "nuid": "d87a4498-fa76-444e-984b-25cec32fb37c",
     "showTitle": false,
     "tableResultSettingsMap": {},
     "title": ""
    }
   },
   "source": [
    "How to View the Dataframes"
   ]
  },
  {
   "cell_type": "code",
   "execution_count": 0,
   "metadata": {
    "application/vnd.databricks.v1+cell": {
     "cellMetadata": {
      "byteLimit": 2048000,
      "rowLimit": 10000
     },
     "inputWidgets": {},
     "nuid": "d4e5a140-b2bd-4cf3-8798-6fecb6164064",
     "showTitle": true,
     "tableResultSettingsMap": {},
     "title": "Viewing DataFrames "
    }
   },
   "outputs": [
    {
     "output_type": "stream",
     "name": "stdout",
     "output_type": "stream",
     "text": [
      "+-----+-----+-------------+----------+-------------------+\n|col_1|col_2|        col_3|     col_4|              col_5|\n+-----+-----+-------------+----------+-------------------+\n|  100|200.0|string_test_1|2023-01-01|2023-01-01 12:00:00|\n|  200|300.0|string_test_2|2023-02-01|2023-01-02 12:00:00|\n|  300|400.0|string_test_3|2023-03-01|2023-01-03 12:00:00|\n+-----+-----+-------------+----------+-------------------+\n\n"
     ]
    }
   ],
   "source": [
    "data_df.show()"
   ]
  },
  {
   "cell_type": "code",
   "execution_count": 0,
   "metadata": {
    "application/vnd.databricks.v1+cell": {
     "cellMetadata": {
      "byteLimit": 2048000,
      "rowLimit": 10000
     },
     "inputWidgets": {},
     "nuid": "465e9144-4bf7-472d-bb62-35dad761c240",
     "showTitle": true,
     "tableResultSettingsMap": {},
     "title": "Viewing top n rows"
    }
   },
   "outputs": [
    {
     "output_type": "stream",
     "name": "stdout",
     "output_type": "stream",
     "text": [
      "+-----+-----+-------------+----------+-------------------+\n|col_1|col_2|        col_3|     col_4|              col_5|\n+-----+-----+-------------+----------+-------------------+\n|  100|200.0|string_test_1|2023-01-01|2023-01-01 12:00:00|\n|  200|300.0|string_test_2|2023-02-01|2023-01-02 12:00:00|\n+-----+-----+-------------+----------+-------------------+\nonly showing top 2 rows\n"
     ]
    }
   ],
   "source": [
    "data_df.show(2)"
   ]
  },
  {
   "cell_type": "code",
   "execution_count": 0,
   "metadata": {
    "application/vnd.databricks.v1+cell": {
     "cellMetadata": {
      "byteLimit": 2048000,
      "rowLimit": 10000
     },
     "inputWidgets": {},
     "nuid": "3882bfa7-6fa4-4a7c-b039-d919edc5fb07",
     "showTitle": true,
     "tableResultSettingsMap": {},
     "title": "Viewing DataFrame schema"
    }
   },
   "outputs": [
    {
     "output_type": "stream",
     "name": "stdout",
     "output_type": "stream",
     "text": [
      "root\n |-- col_1: long (nullable = true)\n |-- col_2: double (nullable = true)\n |-- col_3: string (nullable = true)\n |-- col_4: date (nullable = true)\n |-- col_5: timestamp (nullable = true)\n\n"
     ]
    }
   ],
   "source": [
    "data_df.printSchema()"
   ]
  },
  {
   "cell_type": "code",
   "execution_count": 0,
   "metadata": {
    "application/vnd.databricks.v1+cell": {
     "cellMetadata": {
      "byteLimit": 2048000,
      "rowLimit": 10000
     },
     "inputWidgets": {},
     "nuid": "49b81183-36c8-4862-b2fb-4778ceb6d16c",
     "showTitle": true,
     "tableResultSettingsMap": {},
     "title": "Viewing data vertically"
    }
   },
   "outputs": [
    {
     "output_type": "stream",
     "name": "stdout",
     "output_type": "stream",
     "text": [
      "+-----+-----+-------------+----------+-------------------+\n|col_1|col_2|        col_3|     col_4|              col_5|\n+-----+-----+-------------+----------+-------------------+\n|  100|200.0|string_test_1|2023-01-01|2023-01-01 12:00:00|\n|  200|300.0|string_test_2|2023-02-01|2023-01-02 12:00:00|\n+-----+-----+-------------+----------+-------------------+\nonly showing top 2 rows\n"
     ]
    }
   ],
   "source": [
    "data_df.show(2, vertical=False)"
   ]
  },
  {
   "cell_type": "code",
   "execution_count": 0,
   "metadata": {
    "application/vnd.databricks.v1+cell": {
     "cellMetadata": {
      "byteLimit": 2048000,
      "rowLimit": 10000
     },
     "inputWidgets": {},
     "nuid": "18974b22-4fae-4787-aacb-67eb458c20a2",
     "showTitle": true,
     "tableResultSettingsMap": {},
     "title": "Viewing columns of data "
    }
   },
   "outputs": [
    {
     "output_type": "execute_result",
     "data": {
      "text/plain": [
       "['col_1', 'col_2', 'col_3', 'col_4', 'col_5']"
      ]
     },
     "execution_count": 15,
     "metadata": {},
     "output_type": "execute_result"
    }
   ],
   "source": [
    "data_df.columns"
   ]
  },
  {
   "cell_type": "code",
   "execution_count": 0,
   "metadata": {
    "application/vnd.databricks.v1+cell": {
     "cellMetadata": {
      "byteLimit": 2048000,
      "rowLimit": 10000
     },
     "inputWidgets": {},
     "nuid": "f607973a-991a-4892-ada8-a6f8e2daf5d1",
     "showTitle": true,
     "tableResultSettingsMap": {},
     "title": "Counting number of rows of data"
    }
   },
   "outputs": [
    {
     "output_type": "execute_result",
     "data": {
      "text/plain": [
       "3"
      ]
     },
     "execution_count": 16,
     "metadata": {},
     "output_type": "execute_result"
    }
   ],
   "source": [
    "data_df.count()"
   ]
  },
  {
   "cell_type": "code",
   "execution_count": 0,
   "metadata": {
    "application/vnd.databricks.v1+cell": {
     "cellMetadata": {
      "byteLimit": 2048000,
      "rowLimit": 10000
     },
     "inputWidgets": {},
     "nuid": "3513085f-5679-4735-9085-7e7b3de398b4",
     "showTitle": true,
     "tableResultSettingsMap": {},
     "title": "Viewing summary statistics "
    }
   },
   "outputs": [
    {
     "output_type": "stream",
     "name": "stdout",
     "output_type": "stream",
     "text": [
      "+-------+-----+-----+-------------+\n|summary|col_1|col_2|        col_3|\n+-------+-----+-----+-------------+\n|  count|    3|    3|            3|\n|   mean|200.0|300.0|         NULL|\n| stddev|100.0|100.0|         NULL|\n|    min|  100|200.0|string_test_1|\n|    max|  300|400.0|string_test_3|\n+-------+-----+-----+-------------+\n\n"
     ]
    }
   ],
   "source": [
    "data_df.select('col_1', 'col_2', 'col_3').describe().show()"
   ]
  },
  {
   "cell_type": "code",
   "execution_count": 0,
   "metadata": {
    "application/vnd.databricks.v1+cell": {
     "cellMetadata": {
      "byteLimit": 2048000,
      "rowLimit": 10000
     },
     "inputWidgets": {},
     "nuid": "550f6a6b-61cc-4913-9220-9cb02962045c",
     "showTitle": true,
     "tableResultSettingsMap": {},
     "title": "Collecting the data"
    }
   },
   "outputs": [
    {
     "output_type": "execute_result",
     "data": {
      "text/plain": [
       "[Row(col_1=100, col_2=200.0, col_3='string_test_1', col_4=datetime.date(2023, 1, 1), col_5=datetime.datetime(2023, 1, 1, 12, 0)),\n",
       " Row(col_1=200, col_2=300.0, col_3='string_test_2', col_4=datetime.date(2023, 2, 1), col_5=datetime.datetime(2023, 1, 2, 12, 0)),\n",
       " Row(col_1=300, col_2=400.0, col_3='string_test_3', col_4=datetime.date(2023, 3, 1), col_5=datetime.datetime(2023, 1, 3, 12, 0))]"
      ]
     },
     "execution_count": 18,
     "metadata": {},
     "output_type": "execute_result"
    }
   ],
   "source": [
    "data_df.collect()"
   ]
  },
  {
   "cell_type": "code",
   "execution_count": 0,
   "metadata": {
    "application/vnd.databricks.v1+cell": {
     "cellMetadata": {
      "byteLimit": 2048000,
      "rowLimit": 10000
     },
     "inputWidgets": {},
     "nuid": "d1a9456e-7fc7-4b73-bdfe-b3bd45f01f68",
     "showTitle": true,
     "tableResultSettingsMap": {},
     "title": "Using take"
    }
   },
   "outputs": [
    {
     "output_type": "execute_result",
     "data": {
      "text/plain": [
       "[Row(col_1=100, col_2=200.0, col_3='string_test_1', col_4=datetime.date(2023, 1, 1), col_5=datetime.datetime(2023, 1, 1, 12, 0)),\n",
       " Row(col_1=200, col_2=300.0, col_3='string_test_2', col_4=datetime.date(2023, 2, 1), col_5=datetime.datetime(2023, 1, 2, 12, 0))]"
      ]
     },
     "execution_count": 19,
     "metadata": {},
     "output_type": "execute_result"
    }
   ],
   "source": [
    "data_df.take(2)"
   ]
  },
  {
   "cell_type": "code",
   "execution_count": 0,
   "metadata": {
    "application/vnd.databricks.v1+cell": {
     "cellMetadata": {
      "byteLimit": 2048000,
      "rowLimit": 10000
     },
     "inputWidgets": {},
     "nuid": "5f5c4426-d270-40be-9088-c74d727af5b1",
     "showTitle": true,
     "tableResultSettingsMap": {},
     "title": "Using tail"
    }
   },
   "outputs": [
    {
     "output_type": "execute_result",
     "data": {
      "text/plain": [
       "[Row(col_1=300, col_2=400.0, col_3='string_test_3', col_4=datetime.date(2023, 3, 1), col_5=datetime.datetime(2023, 1, 3, 12, 0))]"
      ]
     },
     "execution_count": 20,
     "metadata": {},
     "output_type": "execute_result"
    }
   ],
   "source": [
    "data_df.tail(1)"
   ]
  },
  {
   "cell_type": "code",
   "execution_count": 0,
   "metadata": {
    "application/vnd.databricks.v1+cell": {
     "cellMetadata": {
      "byteLimit": 2048000,
      "rowLimit": 10000
     },
     "inputWidgets": {},
     "nuid": "fbdd9347-da63-4575-ac6d-b55b593044ff",
     "showTitle": true,
     "tableResultSettingsMap": {},
     "title": "Using head"
    }
   },
   "outputs": [
    {
     "output_type": "execute_result",
     "data": {
      "text/plain": [
       "[Row(col_1=100, col_2=200.0, col_3='string_test_1', col_4=datetime.date(2023, 1, 1), col_5=datetime.datetime(2023, 1, 1, 12, 0)),\n",
       " Row(col_1=200, col_2=300.0, col_3='string_test_2', col_4=datetime.date(2023, 2, 1), col_5=datetime.datetime(2023, 1, 2, 12, 0))]"
      ]
     },
     "execution_count": 21,
     "metadata": {},
     "output_type": "execute_result"
    }
   ],
   "source": [
    "data_df.head(2)"
   ]
  },
  {
   "cell_type": "code",
   "execution_count": 0,
   "metadata": {
    "application/vnd.databricks.v1+cell": {
     "cellMetadata": {
      "byteLimit": 2048000,
      "rowLimit": 10000
     },
     "inputWidgets": {},
     "nuid": "2e48afa4-79e2-4ac5-86f0-cb95a8145ef0",
     "showTitle": true,
     "tableResultSettingsMap": {},
     "title": "Converting Pyspark dataframe to Pandas"
    }
   },
   "outputs": [
    {
     "output_type": "execute_result",
     "data": {
      "text/html": [
       "<div>\n",
       "<style scoped>\n",
       "    .dataframe tbody tr th:only-of-type {\n",
       "        vertical-align: middle;\n",
       "    }\n",
       "\n",
       "    .dataframe tbody tr th {\n",
       "        vertical-align: top;\n",
       "    }\n",
       "\n",
       "    .dataframe thead th {\n",
       "        text-align: right;\n",
       "    }\n",
       "</style>\n",
       "<table border=\"1\" class=\"dataframe\">\n",
       "  <thead>\n",
       "    <tr style=\"text-align: right;\">\n",
       "      <th></th>\n",
       "      <th>col_1</th>\n",
       "      <th>col_2</th>\n",
       "      <th>col_3</th>\n",
       "      <th>col_4</th>\n",
       "      <th>col_5</th>\n",
       "    </tr>\n",
       "  </thead>\n",
       "  <tbody>\n",
       "    <tr>\n",
       "      <th>0</th>\n",
       "      <td>100</td>\n",
       "      <td>200.0</td>\n",
       "      <td>string_test_1</td>\n",
       "      <td>2023-01-01</td>\n",
       "      <td>2023-01-01 12:00:00</td>\n",
       "    </tr>\n",
       "    <tr>\n",
       "      <th>1</th>\n",
       "      <td>200</td>\n",
       "      <td>300.0</td>\n",
       "      <td>string_test_2</td>\n",
       "      <td>2023-02-01</td>\n",
       "      <td>2023-01-02 12:00:00</td>\n",
       "    </tr>\n",
       "    <tr>\n",
       "      <th>2</th>\n",
       "      <td>300</td>\n",
       "      <td>400.0</td>\n",
       "      <td>string_test_3</td>\n",
       "      <td>2023-03-01</td>\n",
       "      <td>2023-01-03 12:00:00</td>\n",
       "    </tr>\n",
       "  </tbody>\n",
       "</table>\n",
       "</div>"
      ],
      "text/plain": [
       "   col_1  col_2          col_3       col_4               col_5\n",
       "0    100  200.0  string_test_1  2023-01-01 2023-01-01 12:00:00\n",
       "1    200  300.0  string_test_2  2023-02-01 2023-01-02 12:00:00\n",
       "2    300  400.0  string_test_3  2023-03-01 2023-01-03 12:00:00"
      ]
     },
     "execution_count": 22,
     "metadata": {},
     "output_type": "execute_result"
    }
   ],
   "source": [
    "data_df.toPandas()"
   ]
  },
  {
   "cell_type": "markdown",
   "metadata": {
    "application/vnd.databricks.v1+cell": {
     "cellMetadata": {},
     "inputWidgets": {},
     "nuid": "f0502651-b54a-45e6-84ae-62ea7e1600ad",
     "showTitle": false,
     "tableResultSettingsMap": {},
     "title": ""
    }
   },
   "source": [
    "How to do Data Manipulation - Rows and Columns"
   ]
  },
  {
   "cell_type": "code",
   "execution_count": 0,
   "metadata": {
    "application/vnd.databricks.v1+cell": {
     "cellMetadata": {
      "byteLimit": 2048000,
      "rowLimit": 10000
     },
     "inputWidgets": {},
     "nuid": "e4f34241-a0de-47d4-89d0-5596681206c5",
     "showTitle": true,
     "tableResultSettingsMap": {},
     "title": "Selecting Columns"
    }
   },
   "outputs": [
    {
     "output_type": "stream",
     "name": "stdout",
     "output_type": "stream",
     "text": [
      "+-------------+\n|        col_3|\n+-------------+\n|string_test_1|\n|string_test_2|\n|string_test_3|\n+-------------+\n\n"
     ]
    }
   ],
   "source": [
    "from pyspark.sql import Column\n",
    "\n",
    "data_df.select(data_df.col_3).show()\n"
   ]
  },
  {
   "cell_type": "code",
   "execution_count": 0,
   "metadata": {
    "application/vnd.databricks.v1+cell": {
     "cellMetadata": {
      "byteLimit": 2048000,
      "rowLimit": 10000
     },
     "inputWidgets": {},
     "nuid": "45d519e4-aa6d-4638-90a7-b7e447253589",
     "showTitle": false,
     "tableResultSettingsMap": {},
     "title": ""
    }
   },
   "outputs": [
    {
     "output_type": "display_data",
     "data": {
      "text/html": [
       "<style scoped>\n",
       "  .table-result-container {\n",
       "    max-height: 300px;\n",
       "    overflow: auto;\n",
       "  }\n",
       "  table, th, td {\n",
       "    border: 1px solid black;\n",
       "    border-collapse: collapse;\n",
       "  }\n",
       "  th, td {\n",
       "    padding: 5px;\n",
       "  }\n",
       "  th {\n",
       "    text-align: left;\n",
       "  }\n",
       "</style><div class='table-result-container'><table class='table-result'><thead style='background-color: white'><tr><th>col_1</th><th>col_2</th><th>col_3</th><th>col_4</th><th>col_5</th></tr></thead><tbody><tr><td>100</td><td>200.0</td><td>string_test_1</td><td>2023-01-01</td><td>2023-01-01T12:00:00Z</td></tr><tr><td>200</td><td>300.0</td><td>string_test_2</td><td>2023-02-01</td><td>2023-01-02T12:00:00Z</td></tr><tr><td>300</td><td>400.0</td><td>string_test_3</td><td>2023-03-01</td><td>2023-01-03T12:00:00Z</td></tr></tbody></table></div>"
      ]
     },
     "metadata": {
      "application/vnd.databricks.v1+output": {
       "addedWidgets": {},
       "aggData": [],
       "aggError": "",
       "aggOverflow": false,
       "aggSchema": [],
       "aggSeriesLimitReached": false,
       "aggType": "",
       "arguments": {},
       "columnCustomDisplayInfos": {},
       "data": [
        [
         100,
         200.0,
         "string_test_1",
         "2023-01-01",
         "2023-01-01T12:00:00Z"
        ],
        [
         200,
         300.0,
         "string_test_2",
         "2023-02-01",
         "2023-01-02T12:00:00Z"
        ],
        [
         300,
         400.0,
         "string_test_3",
         "2023-03-01",
         "2023-01-03T12:00:00Z"
        ]
       ],
       "datasetInfos": [],
       "dbfsResultPath": null,
       "isJsonSchema": true,
       "metadata": {},
       "overflow": false,
       "plotOptions": {
        "customPlotOptions": {},
        "displayType": "table",
        "pivotAggregation": null,
        "pivotColumns": null,
        "xColumns": null,
        "yColumns": null
       },
       "removedWidgets": [],
       "schema": [
        {
         "metadata": "{}",
         "name": "col_1",
         "type": "\"long\""
        },
        {
         "metadata": "{}",
         "name": "col_2",
         "type": "\"double\""
        },
        {
         "metadata": "{}",
         "name": "col_3",
         "type": "\"string\""
        },
        {
         "metadata": "{}",
         "name": "col_4",
         "type": "\"date\""
        },
        {
         "metadata": "{}",
         "name": "col_5",
         "type": "\"timestamp\""
        }
       ],
       "type": "table"
      }
     },
     "output_type": "display_data"
    }
   ],
   "source": [
    "display(data_df)"
   ]
  },
  {
   "cell_type": "code",
   "execution_count": 0,
   "metadata": {
    "application/vnd.databricks.v1+cell": {
     "cellMetadata": {
      "byteLimit": 2048000,
      "rowLimit": 10000
     },
     "inputWidgets": {},
     "nuid": "47fd50e6-1433-4add-ae2f-1ddcfb1a0e7c",
     "showTitle": true,
     "tableResultSettingsMap": {},
     "title": "Creating Columns and multiple columns"
    }
   },
   "outputs": [
    {
     "output_type": "stream",
     "name": "stdout",
     "output_type": "stream",
     "text": [
      "+-----+-----+-------------+----------+-------------------+-----+\n|col_1|col_2|        col_3|     col_4|              col_5|col_6|\n+-----+-----+-------------+----------+-------------------+-----+\n|  100|200.0|string_test_1|2023-01-01|2023-01-01 12:00:00|   NA|\n|  200|300.0|string_test_2|2023-02-01|2023-01-02 12:00:00|   NA|\n|  300|400.0|string_test_3|2023-03-01|2023-01-03 12:00:00|   NA|\n+-----+-----+-------------+----------+-------------------+-----+\n\n+-----+-----+-------------+----------+-------------------+-----+-----+-----+\n|col_1|col_2|        col_3|     col_4|              col_5|col_6|col_7|col_8|\n+-----+-----+-------------+----------+-------------------+-----+-----+-----+\n|  100|200.0|string_test_1|2023-01-01|2023-01-01 12:00:00|   NA|  102|  103|\n|  200|300.0|string_test_2|2023-02-01|2023-01-02 12:00:00|   NA|  202|  203|\n|  300|400.0|string_test_3|2023-03-01|2023-01-03 12:00:00|   NA|  302|  303|\n+-----+-----+-------------+----------+-------------------+-----+-----+-----+\n\n"
     ]
    }
   ],
   "source": [
    "from pyspark.sql import functions as F\n",
    "data_df = data_df.withColumn(\"col_6\", F.lit(\"NA\"))\n",
    "data_df.show()\n",
    "\n",
    "data_df_new = data_df.withColumns({'col_7': data_df.col_1 + 2, 'col_8': data_df.col_1 + 3})\n",
    "data_df_new.show()"
   ]
  },
  {
   "cell_type": "code",
   "execution_count": 0,
   "metadata": {
    "application/vnd.databricks.v1+cell": {
     "cellMetadata": {
      "byteLimit": 2048000,
      "rowLimit": 10000
     },
     "inputWidgets": {},
     "nuid": "e4486715-ddd5-4013-a4d2-81a1f55b780d",
     "showTitle": true,
     "tableResultSettingsMap": {},
     "title": "Instead of Drop use Select"
    }
   },
   "outputs": [
    {
     "output_type": "stream",
     "name": "stdout",
     "output_type": "stream",
     "text": [
      "+-----+-----+-------------+----------+-----+\n|col_1|col_2|        col_3|     col_4|col_6|\n+-----+-----+-------------+----------+-----+\n|  100|200.0|string_test_1|2023-01-01|   NA|\n|  200|300.0|string_test_2|2023-02-01|   NA|\n|  300|400.0|string_test_3|2023-03-01|   NA|\n+-----+-----+-------------+----------+-----+\n\n"
     ]
    }
   ],
   "source": [
    "data_df = data_df.selectExpr(\"col_1\",\"col_2\",\"col_3\",\"col_4\",\"col_6\")\n",
    "data_df.show()\n"
   ]
  },
  {
   "cell_type": "code",
   "execution_count": 0,
   "metadata": {
    "application/vnd.databricks.v1+cell": {
     "cellMetadata": {
      "byteLimit": 2048000,
      "rowLimit": 10000
     },
     "inputWidgets": {},
     "nuid": "62323798-4638-483c-9d30-e9206ef826de",
     "showTitle": true,
     "tableResultSettingsMap": {},
     "title": "Dropping Columns"
    }
   },
   "outputs": [
    {
     "output_type": "stream",
     "name": "stdout",
     "output_type": "stream",
     "text": [
      "+-----+-----+-------------+----------+-----+\n|col_1|col_2|        col_3|     col_4|col_6|\n+-----+-----+-------------+----------+-----+\n|  100|200.0|string_test_1|2023-01-01|   NA|\n|  200|300.0|string_test_2|2023-02-01|   NA|\n|  300|400.0|string_test_3|2023-03-01|   NA|\n+-----+-----+-------------+----------+-----+\n\n"
     ]
    }
   ],
   "source": [
    "data_df = data_df.drop(\"col_5\")\n",
    "data_df.show()\n"
   ]
  },
  {
   "cell_type": "code",
   "execution_count": 0,
   "metadata": {
    "application/vnd.databricks.v1+cell": {
     "cellMetadata": {
      "byteLimit": 2048000,
      "rowLimit": 10000
     },
     "inputWidgets": {},
     "nuid": "fb759316-d4e6-43b0-8ced-d073f1a20f97",
     "showTitle": true,
     "tableResultSettingsMap": {},
     "title": "Updating Columns"
    }
   },
   "outputs": [
    {
     "output_type": "stream",
     "name": "stdout",
     "output_type": "stream",
     "text": [
      "+-----+-----+-------------+----------+-----+\n|col_1|col_2|        col_3|     col_4|col_6|\n+-----+-----+-------------+----------+-----+\n|  100|  2.0|string_test_1|2023-01-01|   NA|\n|  200|  3.0|string_test_2|2023-02-01|   NA|\n|  300|  4.0|string_test_3|2023-03-01|   NA|\n+-----+-----+-------------+----------+-----+\n\n"
     ]
    }
   ],
   "source": [
    "data_df.withColumn(\"col_2\", F.col(\"col_2\") / 100).show()"
   ]
  },
  {
   "cell_type": "code",
   "execution_count": 0,
   "metadata": {
    "application/vnd.databricks.v1+cell": {
     "cellMetadata": {
      "byteLimit": 2048000,
      "rowLimit": 10000
     },
     "inputWidgets": {},
     "nuid": "2cc409f3-6407-48a1-a5c9-21f08062a7f3",
     "showTitle": true,
     "tableResultSettingsMap": {},
     "title": "Renaming Columns"
    }
   },
   "outputs": [
    {
     "output_type": "stream",
     "name": "stdout",
     "output_type": "stream",
     "text": [
      "+-----+-----+-----------------------+----------+-----+\n|col_1|col_2|any_name_of_your_choice|     col_4|col_6|\n+-----+-----+-----------------------+----------+-----+\n|  100|200.0|          string_test_1|2023-01-01|   NA|\n|  200|300.0|          string_test_2|2023-02-01|   NA|\n|  300|400.0|          string_test_3|2023-03-01|   NA|\n+-----+-----+-----------------------+----------+-----+\n\n"
     ]
    }
   ],
   "source": [
    "data_df = data_df.withColumnRenamed(\"col_3\", \"any_name_of_your_choice\")\n",
    "data_df.show()\n"
   ]
  },
  {
   "cell_type": "code",
   "execution_count": 0,
   "metadata": {
    "application/vnd.databricks.v1+cell": {
     "cellMetadata": {
      "byteLimit": 2048000,
      "rowLimit": 10000
     },
     "inputWidgets": {},
     "nuid": "fd1755b4-eec5-44f5-b8d3-946cb0359432",
     "showTitle": true,
     "tableResultSettingsMap": {},
     "title": "Finding Unique Values in a Column"
    }
   },
   "outputs": [
    {
     "output_type": "stream",
     "name": "stdout",
     "output_type": "stream",
     "text": [
      "+-----+-----+\n|col_1|col_6|\n+-----+-----+\n|  100|   NA|\n|  200|   NA|\n|  300|   NA|\n+-----+-----+\n\n"
     ]
    }
   ],
   "source": [
    "data_df.select(\"col_1\",\"col_6\").distinct().show()"
   ]
  },
  {
   "cell_type": "code",
   "execution_count": 0,
   "metadata": {
    "application/vnd.databricks.v1+cell": {
     "cellMetadata": {
      "byteLimit": 2048000,
      "rowLimit": 10000
     },
     "inputWidgets": {},
     "nuid": "4e721f62-090b-4708-ae6e-c6c14d578a1f",
     "showTitle": true,
     "tableResultSettingsMap": {},
     "title": "Instead of distinct(), can we use dropDuplicates()"
    }
   },
   "outputs": [
    {
     "output_type": "stream",
     "name": "stdout",
     "output_type": "stream",
     "text": [
      "+-----+-----+\n|col_1|col_6|\n+-----+-----+\n|  100|   NA|\n+-----+-----+\n\n"
     ]
    }
   ],
   "source": [
    "data_df.select(\"col_1\",\"col_6\").dropDuplicates([\"col_6\"]).show()"
   ]
  },
  {
   "cell_type": "code",
   "execution_count": 0,
   "metadata": {
    "application/vnd.databricks.v1+cell": {
     "cellMetadata": {
      "byteLimit": 2048000,
      "rowLimit": 10000
     },
     "inputWidgets": {},
     "nuid": "beddedbc-ced1-477d-b8bd-30a102ef10dd",
     "showTitle": false,
     "tableResultSettingsMap": {},
     "title": ""
    }
   },
   "outputs": [
    {
     "output_type": "stream",
     "name": "stdout",
     "output_type": "stream",
     "text": [
      "+------------+\n|Total_Unique|\n+------------+\n|           3|\n+------------+\n\n"
     ]
    }
   ],
   "source": [
    "data_df.select(F.countDistinct(\"col_2\").alias(\"Total_Unique\")).show()"
   ]
  },
  {
   "cell_type": "code",
   "execution_count": 0,
   "metadata": {
    "application/vnd.databricks.v1+cell": {
     "cellMetadata": {
      "byteLimit": 2048000,
      "rowLimit": 10000
     },
     "inputWidgets": {},
     "nuid": "469c586b-c14e-4652-be89-97c9b62e5818",
     "showTitle": true,
     "tableResultSettingsMap": {},
     "title": "Change case of a Column"
    }
   },
   "outputs": [
    {
     "output_type": "stream",
     "name": "stdout",
     "output_type": "stream",
     "text": [
      "+-----+-----+-----------------------+----------+-----+----------------+\n|col_1|col_2|any_name_of_your_choice|     col_4|col_6|upper_string_col|\n+-----+-----+-----------------------+----------+-----+----------------+\n|  100|200.0|          string_test_1|2023-01-01|   NA|   STRING_TEST_1|\n|  200|300.0|          string_test_2|2023-02-01|   NA|   STRING_TEST_2|\n|  300|400.0|          string_test_3|2023-03-01|   NA|   STRING_TEST_3|\n+-----+-----+-----------------------+----------+-----+----------------+\n\n"
     ]
    }
   ],
   "source": [
    "from pyspark.sql.functions import upper\n",
    "\n",
    "data_df.withColumn('upper_string_col', upper(data_df.any_name_of_your_choice)).show()\n"
   ]
  },
  {
   "cell_type": "code",
   "execution_count": 0,
   "metadata": {
    "application/vnd.databricks.v1+cell": {
     "cellMetadata": {
      "byteLimit": 2048000,
      "rowLimit": 10000
     },
     "inputWidgets": {},
     "nuid": "c7b3e23f-84f5-41de-a09d-a7a20e9404b5",
     "showTitle": true,
     "tableResultSettingsMap": {},
     "title": "Filtering a Dataframe"
    }
   },
   "outputs": [
    {
     "output_type": "stream",
     "name": "stdout",
     "output_type": "stream",
     "text": [
      "+-----+-----+-----------------------+----------+-----+\n|col_1|col_2|any_name_of_your_choice|     col_4|col_6|\n+-----+-----+-----------------------+----------+-----+\n|  100|200.0|          string_test_1|2023-01-01|   NA|\n+-----+-----+-----------------------+----------+-----+\n\n"
     ]
    }
   ],
   "source": [
    "data_df.filter(data_df.col_1 == 100).show()"
   ]
  },
  {
   "cell_type": "code",
   "execution_count": 0,
   "metadata": {
    "application/vnd.databricks.v1+cell": {
     "cellMetadata": {
      "byteLimit": 2048000,
      "rowLimit": 10000
     },
     "inputWidgets": {},
     "nuid": "d04d0a4d-11a6-4f7a-aa14-9d2f0f10b007",
     "showTitle": true,
     "tableResultSettingsMap": {},
     "title": "Where as an alias of Filter"
    }
   },
   "outputs": [
    {
     "output_type": "stream",
     "name": "stdout",
     "output_type": "stream",
     "text": [
      "+-----+-----+-----------------------+----------+-----+\n|col_1|col_2|any_name_of_your_choice|     col_4|col_6|\n+-----+-----+-----------------------+----------+-----+\n|  100|200.0|          string_test_1|2023-01-01|   NA|\n+-----+-----+-----------------------+----------+-----+\n\n"
     ]
    }
   ],
   "source": [
    "data_df.where(data_df.col_1 == 100).show()"
   ]
  },
  {
   "cell_type": "code",
   "execution_count": 0,
   "metadata": {
    "application/vnd.databricks.v1+cell": {
     "cellMetadata": {
      "byteLimit": 2048000,
      "rowLimit": 10000
     },
     "inputWidgets": {},
     "nuid": "889da414-a8e1-4014-ab7f-5e1f10d362fa",
     "showTitle": true,
     "tableResultSettingsMap": {},
     "title": "Logical Operators in a Dataframe"
    }
   },
   "outputs": [
    {
     "output_type": "stream",
     "name": "stdout",
     "output_type": "stream",
     "text": [
      "+-----+-----+-----------------------+----------+-----+\n|col_1|col_2|any_name_of_your_choice|     col_4|col_6|\n+-----+-----+-----------------------+----------+-----+\n|  100|200.0|          string_test_1|2023-01-01|   NA|\n+-----+-----+-----------------------+----------+-----+\n\n"
     ]
    }
   ],
   "source": [
    "data_df.filter((data_df.col_1 == 100)\n",
    "\t\t& (data_df.col_6 == 'NA')).show()\n"
   ]
  },
  {
   "cell_type": "code",
   "execution_count": 0,
   "metadata": {
    "application/vnd.databricks.v1+cell": {
     "cellMetadata": {
      "byteLimit": 2048000,
      "rowLimit": 10000
     },
     "inputWidgets": {},
     "nuid": "582e12c8-1081-4a3f-a539-8fbf1080e316",
     "showTitle": false,
     "tableResultSettingsMap": {},
     "title": ""
    }
   },
   "outputs": [
    {
     "output_type": "stream",
     "name": "stdout",
     "output_type": "stream",
     "text": [
      "+-----+-----+-----------------------+----------+-----+\n|col_1|col_2|any_name_of_your_choice|     col_4|col_6|\n+-----+-----+-----------------------+----------+-----+\n|  100|200.0|          string_test_1|2023-01-01|   NA|\n|  200|300.0|          string_test_2|2023-02-01|   NA|\n+-----+-----+-----------------------+----------+-----+\n\n"
     ]
    }
   ],
   "source": [
    "data_df.filter((data_df.col_1 == 100)\n",
    "\t\t| (data_df.col_2 == 300.00)).show()\n"
   ]
  },
  {
   "cell_type": "code",
   "execution_count": 0,
   "metadata": {
    "application/vnd.databricks.v1+cell": {
     "cellMetadata": {
      "byteLimit": 2048000,
      "rowLimit": 10000
     },
     "inputWidgets": {},
     "nuid": "ef3afdd9-e883-40cc-bd79-cc9fcff57a7e",
     "showTitle": true,
     "tableResultSettingsMap": {},
     "title": "Using Isin()"
    }
   },
   "outputs": [
    {
     "output_type": "stream",
     "name": "stdout",
     "output_type": "stream",
     "text": [
      "+-----+-----+-----------------------+----------+-----+\n|col_1|col_2|any_name_of_your_choice|     col_4|col_6|\n+-----+-----+-----------------------+----------+-----+\n|  100|200.0|          string_test_1|2023-01-01|   NA|\n|  200|300.0|          string_test_2|2023-02-01|   NA|\n+-----+-----+-----------------------+----------+-----+\n\n"
     ]
    }
   ],
   "source": [
    "list = [100, 200]\n",
    "data_df.filter(data_df.col_1.isin(list)).show()\n"
   ]
  },
  {
   "cell_type": "code",
   "execution_count": 0,
   "metadata": {
    "application/vnd.databricks.v1+cell": {
     "cellMetadata": {
      "byteLimit": 2048000,
      "rowLimit": 10000
     },
     "inputWidgets": {},
     "nuid": "38808423-475d-45a1-b6ae-ac0e0d169145",
     "showTitle": false,
     "tableResultSettingsMap": {},
     "title": ""
    }
   },
   "outputs": [
    {
     "output_type": "stream",
     "name": "stdout",
     "output_type": "stream",
     "text": [
      "root\n |-- col_1: long (nullable = true)\n |-- col_2: double (nullable = true)\n |-- any_name_of_your_choice: string (nullable = true)\n |-- col_4: date (nullable = true)\n |-- col_6: string (nullable = false)\n\n"
     ]
    }
   ],
   "source": [
    "data_df.printSchema()"
   ]
  },
  {
   "cell_type": "code",
   "execution_count": 0,
   "metadata": {
    "application/vnd.databricks.v1+cell": {
     "cellMetadata": {
      "byteLimit": 2048000,
      "rowLimit": 10000
     },
     "inputWidgets": {},
     "nuid": "fb4e727a-c8b3-4010-bbde-2224b82aab79",
     "showTitle": true,
     "tableResultSettingsMap": {},
     "title": "Datatype conversions"
    }
   },
   "outputs": [
    {
     "output_type": "stream",
     "name": "stdout",
     "output_type": "stream",
     "text": [
      "root\n |-- col_1: integer (nullable = true)\n |-- col_2: double (nullable = true)\n |-- any_name_of_your_choice: string (nullable = true)\n |-- col_4: string (nullable = true)\n |-- col_6: string (nullable = false)\n\n+-----+-----+-----------------------+----------+-----+\n|col_1|col_2|any_name_of_your_choice|     col_4|col_6|\n+-----+-----+-----------------------+----------+-----+\n|  100|200.0|          string_test_1|2023-01-01|   NA|\n|  200|300.0|          string_test_2|2023-02-01|   NA|\n|  300|400.0|          string_test_3|2023-03-01|   NA|\n+-----+-----+-----------------------+----------+-----+\n\n"
     ]
    }
   ],
   "source": [
    "from pyspark.sql.functions import col\n",
    "from pyspark.sql.types import StringType,BooleanType,DateType,IntegerType\n",
    "\n",
    "data_df_2 = data_df.withColumn(\"col_4\",col(\"col_4\").cast(StringType())) \\\n",
    "    .withColumn(\"col_1\",col(\"col_1\").cast(IntegerType()))\n",
    "data_df_2.printSchema()\n",
    "data_df.show()\n",
    "\n"
   ]
  },
  {
   "cell_type": "code",
   "execution_count": 0,
   "metadata": {
    "application/vnd.databricks.v1+cell": {
     "cellMetadata": {
      "byteLimit": 2048000,
      "rowLimit": 10000
     },
     "inputWidgets": {},
     "nuid": "908430a1-d7f1-4372-aebc-ef371f1efc96",
     "showTitle": false,
     "tableResultSettingsMap": {},
     "title": ""
    }
   },
   "outputs": [
    {
     "output_type": "stream",
     "name": "stdout",
     "output_type": "stream",
     "text": [
      "root\n |-- col_4: date (nullable = true)\n |-- col_1: long (nullable = true)\n\n"
     ]
    }
   ],
   "source": [
    "data_df_3 = data_df_2.selectExpr(\"cast(col_4 as date) as col_4\",\n",
    "    \"cast(col_1 as long) as col_1\")\n",
    "data_df_3.printSchema()\n"
   ]
  },
  {
   "cell_type": "code",
   "execution_count": 0,
   "metadata": {
    "application/vnd.databricks.v1+cell": {
     "cellMetadata": {
      "byteLimit": 2048000,
      "rowLimit": 10000
     },
     "inputWidgets": {},
     "nuid": "581f4941-2c3c-4ed4-bb96-281174ab723a",
     "showTitle": false,
     "tableResultSettingsMap": {},
     "title": ""
    }
   },
   "outputs": [
    {
     "output_type": "stream",
     "name": "stdout",
     "output_type": "stream",
     "text": [
      "+-----+\n|Bonus|\n+-----+\n|  200|\n|  400|\n|  600|\n+-----+\n\n"
     ]
    }
   ],
   "source": [
    "data_df_4 = data_df_2.selectExpr(\"(col_1*2) as Bonus\").show()"
   ]
  },
  {
   "cell_type": "code",
   "execution_count": 0,
   "metadata": {
    "application/vnd.databricks.v1+cell": {
     "cellMetadata": {
      "byteLimit": 2048000,
      "rowLimit": 10000
     },
     "inputWidgets": {},
     "nuid": "16ef174f-8048-47bf-87a5-8537c149fc00",
     "showTitle": false,
     "tableResultSettingsMap": {},
     "title": ""
    }
   },
   "outputs": [
    {
     "output_type": "display_data",
     "data": {
      "text/html": [
       "<style scoped>\n",
       "  .table-result-container {\n",
       "    max-height: 300px;\n",
       "    overflow: auto;\n",
       "  }\n",
       "  table, th, td {\n",
       "    border: 1px solid black;\n",
       "    border-collapse: collapse;\n",
       "  }\n",
       "  th, td {\n",
       "    padding: 5px;\n",
       "  }\n",
       "  th {\n",
       "    text-align: left;\n",
       "  }\n",
       "</style><div class='table-result-container'><table class='table-result'><thead style='background-color: white'><tr><th>col_4</th><th>col_1</th></tr></thead><tbody><tr><td>2023-01-01</td><td>100</td></tr><tr><td>2023-02-01</td><td>200</td></tr><tr><td>2023-03-01</td><td>300</td></tr></tbody></table></div>"
      ]
     },
     "metadata": {
      "application/vnd.databricks.v1+output": {
       "addedWidgets": {},
       "aggData": [],
       "aggError": "",
       "aggOverflow": false,
       "aggSchema": [],
       "aggSeriesLimitReached": false,
       "aggType": "",
       "arguments": {},
       "columnCustomDisplayInfos": {},
       "data": [
        [
         "2023-01-01",
         100
        ],
        [
         "2023-02-01",
         200
        ],
        [
         "2023-03-01",
         300
        ]
       ],
       "datasetInfos": [],
       "dbfsResultPath": null,
       "isJsonSchema": true,
       "metadata": {},
       "overflow": false,
       "plotOptions": {
        "customPlotOptions": {},
        "displayType": "table",
        "pivotAggregation": null,
        "pivotColumns": null,
        "xColumns": null,
        "yColumns": null
       },
       "removedWidgets": [],
       "schema": [
        {
         "metadata": "{}",
         "name": "col_4",
         "type": "\"date\""
        },
        {
         "metadata": "{}",
         "name": "col_1",
         "type": "\"long\""
        }
       ],
       "type": "table"
      }
     },
     "output_type": "display_data"
    }
   ],
   "source": [
    "display(data_df_3)"
   ]
  },
  {
   "cell_type": "code",
   "execution_count": 0,
   "metadata": {
    "application/vnd.databricks.v1+cell": {
     "cellMetadata": {
      "byteLimit": 2048000,
      "rowLimit": 10000
     },
     "inputWidgets": {},
     "nuid": "807c5a36-37c5-41c3-9357-735f4f680113",
     "showTitle": false,
     "tableResultSettingsMap": {},
     "title": ""
    }
   },
   "outputs": [],
   "source": [
    "data_df_3.createOrReplaceTempView(\"CastExample\")"
   ]
  },
  {
   "cell_type": "code",
   "execution_count": 0,
   "metadata": {
    "application/vnd.databricks.v1+cell": {
     "cellMetadata": {
      "byteLimit": 2048000,
      "implicitDf": true,
      "rowLimit": 10000
     },
     "inputWidgets": {},
     "nuid": "03e06dab-0635-4642-a515-5bb37eb7ee67",
     "showTitle": false,
     "tableResultSettingsMap": {
      "0": {
       "dataGridStateBlob": "{\"version\":1,\"tableState\":{\"columnPinning\":{\"left\":[\"#row_number#\"],\"right\":[]},\"columnSizing\":{},\"columnVisibility\":{}},\"settings\":{\"columns\":{}},\"syncTimestamp\":1758992026283}",
       "filterBlob": null,
       "queryPlanFiltersBlob": null,
       "tableResultIndex": 0
      }
     },
     "title": ""
    }
   },
   "outputs": [
    {
     "output_type": "display_data",
     "data": {
      "text/html": [
       "<style scoped>\n",
       "  .table-result-container {\n",
       "    max-height: 300px;\n",
       "    overflow: auto;\n",
       "  }\n",
       "  table, th, td {\n",
       "    border: 1px solid black;\n",
       "    border-collapse: collapse;\n",
       "  }\n",
       "  th, td {\n",
       "    padding: 5px;\n",
       "  }\n",
       "  th {\n",
       "    text-align: left;\n",
       "  }\n",
       "</style><div class='table-result-container'><table class='table-result'><thead style='background-color: white'><tr><th>TotalSales</th></tr></thead><tbody><tr><td>100</td></tr><tr><td>200</td></tr><tr><td>300</td></tr></tbody></table></div>"
      ]
     },
     "metadata": {
      "application/vnd.databricks.v1+output": {
       "addedWidgets": {},
       "aggData": [],
       "aggError": "",
       "aggOverflow": false,
       "aggSchema": [],
       "aggSeriesLimitReached": false,
       "aggType": "",
       "arguments": {},
       "columnCustomDisplayInfos": {},
       "data": [
        [
         100
        ],
        [
         200
        ],
        [
         300
        ]
       ],
       "datasetInfos": [
        {
         "name": "_sqldf",
         "schema": {
          "fields": [
           {
            "metadata": {},
            "name": "TotalSales",
            "nullable": true,
            "type": "long"
           }
          ],
          "type": "struct"
         },
         "tableIdentifier": null,
         "typeStr": "pyspark.sql.dataframe.DataFrame"
        }
       ],
       "dbfsResultPath": null,
       "isJsonSchema": true,
       "metadata": {
        "createTempViewForImplicitDf": true,
        "dataframeName": "_sqldf",
        "executionCount": 69
       },
       "overflow": false,
       "plotOptions": {
        "customPlotOptions": {},
        "displayType": "table",
        "pivotAggregation": null,
        "pivotColumns": null,
        "xColumns": null,
        "yColumns": null
       },
       "removedWidgets": [],
       "schema": [
        {
         "metadata": "{}",
         "name": "TotalSales",
         "type": "\"long\""
        }
       ],
       "type": "table"
      }
     },
     "output_type": "display_data"
    }
   ],
   "source": [
    "%sql\n",
    "SELECT sum(col_1) as TotalSales from CastExample group by col_4"
   ]
  },
  {
   "cell_type": "code",
   "execution_count": 0,
   "metadata": {
    "application/vnd.databricks.v1+cell": {
     "cellMetadata": {
      "byteLimit": 2048000,
      "rowLimit": 10000
     },
     "inputWidgets": {},
     "nuid": "80e2a19c-3ed8-4161-b978-10e4c3c24d5e",
     "showTitle": false,
     "tableResultSettingsMap": {},
     "title": ""
    }
   },
   "outputs": [
    {
     "output_type": "display_data",
     "data": {
      "text/html": [
       "<style scoped>\n",
       "  .table-result-container {\n",
       "    max-height: 300px;\n",
       "    overflow: auto;\n",
       "  }\n",
       "  table, th, td {\n",
       "    border: 1px solid black;\n",
       "    border-collapse: collapse;\n",
       "  }\n",
       "  th, td {\n",
       "    padding: 5px;\n",
       "  }\n",
       "  th {\n",
       "    text-align: left;\n",
       "  }\n",
       "</style><div class='table-result-container'><table class='table-result'><thead style='background-color: white'><tr><th>TotalSales</th></tr></thead><tbody><tr><td>100</td></tr><tr><td>200</td></tr><tr><td>300</td></tr></tbody></table></div>"
      ]
     },
     "metadata": {
      "application/vnd.databricks.v1+output": {
       "addedWidgets": {},
       "aggData": [],
       "aggError": "",
       "aggOverflow": false,
       "aggSchema": [],
       "aggSeriesLimitReached": false,
       "aggType": "",
       "arguments": {},
       "columnCustomDisplayInfos": {},
       "data": [
        [
         100
        ],
        [
         200
        ],
        [
         300
        ]
       ],
       "datasetInfos": [],
       "dbfsResultPath": null,
       "isJsonSchema": true,
       "metadata": {},
       "overflow": false,
       "plotOptions": {
        "customPlotOptions": {},
        "displayType": "table",
        "pivotAggregation": null,
        "pivotColumns": null,
        "xColumns": null,
        "yColumns": null
       },
       "removedWidgets": [],
       "schema": [
        {
         "metadata": "{}",
         "name": "TotalSales",
         "type": "\"long\""
        }
       ],
       "type": "table"
      }
     },
     "output_type": "display_data"
    }
   ],
   "source": [
    "processed_frame=spark.sql('SELECT sum(col_1) as TotalSales from CastExample group by col_4')\n",
    "display(processed_frame)"
   ]
  },
  {
   "cell_type": "code",
   "execution_count": 0,
   "metadata": {
    "application/vnd.databricks.v1+cell": {
     "cellMetadata": {
      "byteLimit": 2048000,
      "rowLimit": 10000
     },
     "inputWidgets": {},
     "nuid": "08646a8d-923c-440a-bae9-305e390b529e",
     "showTitle": false,
     "tableResultSettingsMap": {},
     "title": ""
    }
   },
   "outputs": [
    {
     "output_type": "stream",
     "name": "stdout",
     "output_type": "stream",
     "text": [
      "root\n |-- col_1: double (nullable = true)\n |-- col_4: date (nullable = true)\n\n+-----+----------+\n|col_1|col_4     |\n+-----+----------+\n|100.0|2023-01-01|\n|200.0|2023-02-01|\n|300.0|2023-03-01|\n+-----+----------+\n\n"
     ]
    }
   ],
   "source": [
    "\n",
    "data_df_4 = spark.sql(\"SELECT DOUBLE(col_1), DATE(col_4) from CastExample\")\n",
    "data_df_4.printSchema()\n",
    "data_df_4.show(truncate=False)\n"
   ]
  },
  {
   "cell_type": "code",
   "execution_count": 0,
   "metadata": {
    "application/vnd.databricks.v1+cell": {
     "cellMetadata": {
      "byteLimit": 2048000,
      "rowLimit": 10000
     },
     "inputWidgets": {},
     "nuid": "92dcefea-630b-4ecf-8649-705fbf78b93c",
     "showTitle": true,
     "tableResultSettingsMap": {},
     "title": "Dropping null values from a Dataframe"
    }
   },
   "outputs": [
    {
     "output_type": "stream",
     "name": "stdout",
     "output_type": "stream",
     "text": [
      "root\n |-- Employee: string (nullable = true)\n |-- Department: string (nullable = true)\n |-- Salary: long (nullable = true)\n\n+--------+----------+------+\n|Employee|Department|Salary|\n+--------+----------+------+\n|    John| Field-eng|  3500|\n| Michael| Field-eng|  4500|\n|  Robert|      NULL|  NULL|\n|   Maria|   Finance|  3500|\n|    John|     Sales|  3000|\n|   Kelly|   Finance|  3500|\n|    Kate|   Finance|  NULL|\n|  Martin|      NULL|  3500|\n|   Kiran|     Sales|  2200|\n| Michael| Field-eng|  4500|\n+--------+----------+------+\n\n"
     ]
    }
   ],
   "source": [
    "salary_data = [(\"John\", \"Field-eng\", 3500), \n",
    "    (\"Michael\", \"Field-eng\", 4500), \n",
    "    (\"Robert\", None, None), \n",
    "    (\"Maria\", \"Finance\", 3500), \n",
    "    (\"John\", \"Sales\", 3000), \n",
    "    (\"Kelly\", \"Finance\", 3500), \n",
    "    (\"Kate\", \"Finance\", None), \n",
    "    (\"Martin\", None, 3500), \n",
    "    (\"Kiran\", \"Sales\", 2200), \n",
    "    (\"Michael\", \"Field-eng\", 4500) \n",
    "  ]\n",
    "columns= [\"Employee\", \"Department\", \"Salary\"]\n",
    "salary_data = spark.createDataFrame(data = salary_data, schema = columns)\n",
    "salary_data.printSchema()\n",
    "salary_data.show()\n"
   ]
  },
  {
   "cell_type": "code",
   "execution_count": 0,
   "metadata": {
    "application/vnd.databricks.v1+cell": {
     "cellMetadata": {
      "byteLimit": 2048000,
      "rowLimit": 10000
     },
     "inputWidgets": {},
     "nuid": "5f7ded6f-cc9d-4bfe-8f63-afe560278772",
     "showTitle": false,
     "tableResultSettingsMap": {},
     "title": ""
    }
   },
   "outputs": [
    {
     "output_type": "stream",
     "name": "stdout",
     "output_type": "stream",
     "text": [
      "+--------+----------+------+\n|Employee|Department|Salary|\n+--------+----------+------+\n|    John| Field-eng|  3500|\n| Michael| Field-eng|  4500|\n|   Maria|   Finance|  3500|\n|    John|     Sales|  3000|\n|   Kelly|   Finance|  3500|\n|    Kate|   Finance|  3000|\n|   Kiran|     Sales|  2200|\n| Michael| Field-eng|  4500|\n+--------+----------+------+\n\n"
     ]
    }
   ],
   "source": [
    "salary_data.dropna().show()"
   ]
  },
  {
   "cell_type": "code",
   "execution_count": 0,
   "metadata": {
    "application/vnd.databricks.v1+cell": {
     "cellMetadata": {
      "byteLimit": 2048000,
      "rowLimit": 10000
     },
     "inputWidgets": {},
     "nuid": "7a6f7c9e-1472-42e5-b77d-60766c4c6463",
     "showTitle": false,
     "tableResultSettingsMap": {},
     "title": ""
    }
   },
   "outputs": [
    {
     "output_type": "stream",
     "name": "stdout",
     "output_type": "stream",
     "text": [
      "+-------+--------+----------+-----------------+\n|summary|Employee|Department|           Salary|\n+-------+--------+----------+-----------------+\n|  count|      10|        10|                8|\n|   mean|    NULL|      NULL|           3525.0|\n| stddev|    NULL|      NULL|749.7618669570073|\n|    min|    John| Field-eng|             2200|\n|    max|  Robert|     Sales|             4500|\n+-------+--------+----------+-----------------+\n\n"
     ]
    }
   ],
   "source": [
    "salary_data.describe().show()"
   ]
  },
  {
   "cell_type": "code",
   "execution_count": 0,
   "metadata": {
    "application/vnd.databricks.v1+cell": {
     "cellMetadata": {
      "byteLimit": 2048000,
      "rowLimit": 10000
     },
     "inputWidgets": {},
     "nuid": "b32280b2-8145-49e1-8790-4606ab5c42d0",
     "showTitle": false,
     "tableResultSettingsMap": {},
     "title": ""
    }
   },
   "outputs": [
    {
     "output_type": "stream",
     "name": "stdout",
     "output_type": "stream",
     "text": [
      "+--------+----------+------+\n|Employee|Department|Salary|\n+--------+----------+------+\n|    John| Field-eng|  3500|\n| Michael| Field-eng|  4500|\n|  Robert|        HR|  3525|\n|   Maria|   Finance|  3500|\n|    John|     Sales|  3000|\n|   Kelly|   Finance|  3500|\n|    Kate|   Finance|  3525|\n|  Martin|        HR|  3500|\n|   Kiran|     Sales|  2200|\n| Michael| Field-eng|  4500|\n+--------+----------+------+\n\n+-------+--------+----------+-----------------+\n|summary|Employee|Department|           Salary|\n+-------+--------+----------+-----------------+\n|  count|      10|        10|               10|\n|   mean|    NULL|      NULL|           3525.0|\n| stddev|    NULL|      NULL|661.2278141625791|\n|    min|    John| Field-eng|             2200|\n|    max|  Robert|     Sales|             4500|\n+-------+--------+----------+-----------------+\n\n"
     ]
    }
   ],
   "source": [
    "salary_data = salary_data.fillna({'Salary': 3525.0})\n",
    "salary_data.show()\n",
    "salary_data.describe().show()\n"
   ]
  },
  {
   "cell_type": "code",
   "execution_count": 0,
   "metadata": {
    "application/vnd.databricks.v1+cell": {
     "cellMetadata": {
      "byteLimit": 2048000,
      "rowLimit": 10000
     },
     "inputWidgets": {},
     "nuid": "50cb0f47-2786-4d8a-9514-913108e338af",
     "showTitle": true,
     "tableResultSettingsMap": {},
     "title": "Dropping Duplicates from a Dataframe"
    }
   },
   "outputs": [
    {
     "output_type": "stream",
     "name": "stdout",
     "output_type": "stream",
     "text": [
      "+--------+----------+------+\n|Employee|Department|Salary|\n+--------+----------+------+\n|   Kiran|     Sales|  2200|\n|    John|     Sales|  3000|\n|    John| Field-eng|  3500|\n|  Robert|        HR|  3525|\n| Michael| Field-eng|  4500|\n+--------+----------+------+\n\n"
     ]
    }
   ],
   "source": [
    "new_salary_data = salary_data.dropDuplicates(['Salary']).show()"
   ]
  },
  {
   "cell_type": "markdown",
   "metadata": {
    "application/vnd.databricks.v1+cell": {
     "cellMetadata": {},
     "inputWidgets": {},
     "nuid": "26b09b00-3377-47f5-b54b-350d3126e92c",
     "showTitle": false,
     "tableResultSettingsMap": {},
     "title": ""
    }
   },
   "source": [
    "Using Aggregrates in a Dataframe"
   ]
  },
  {
   "cell_type": "code",
   "execution_count": 0,
   "metadata": {
    "application/vnd.databricks.v1+cell": {
     "cellMetadata": {
      "byteLimit": 2048000,
      "rowLimit": 10000
     },
     "inputWidgets": {},
     "nuid": "151c07a1-1bf3-4cc0-98f4-46aad67e67d3",
     "showTitle": true,
     "tableResultSettingsMap": {},
     "title": "Average (avg)"
    }
   },
   "outputs": [
    {
     "output_type": "stream",
     "name": "stdout",
     "output_type": "stream",
     "text": [
      "+-----------+\n|avg(Salary)|\n+-----------+\n|     3525.0|\n+-----------+\n\n"
     ]
    }
   ],
   "source": [
    "from pyspark.sql.functions import countDistinct, avg\n",
    "salary_data.select(avg('Salary')).show()\n"
   ]
  },
  {
   "cell_type": "code",
   "execution_count": 0,
   "metadata": {
    "application/vnd.databricks.v1+cell": {
     "cellMetadata": {
      "byteLimit": 2048000,
      "rowLimit": 10000
     },
     "inputWidgets": {},
     "nuid": "b3104546-2fba-4638-987b-100fb9ac53cf",
     "showTitle": true,
     "tableResultSettingsMap": {},
     "title": "Count"
    }
   },
   "outputs": [
    {
     "output_type": "stream",
     "name": "stdout",
     "output_type": "stream",
     "text": [
      "+-------------+\n|count(Salary)|\n+-------------+\n|           10|\n+-------------+\n\n"
     ]
    }
   ],
   "source": [
    "salary_data.agg({'Salary':'count'}).show()"
   ]
  },
  {
   "cell_type": "code",
   "execution_count": 0,
   "metadata": {
    "application/vnd.databricks.v1+cell": {
     "cellMetadata": {
      "byteLimit": 2048000,
      "rowLimit": 10000
     },
     "inputWidgets": {},
     "nuid": "8a396838-9c08-46f9-ae42-6b5db6c094c8",
     "showTitle": true,
     "tableResultSettingsMap": {},
     "title": "Count distinct values"
    }
   },
   "outputs": [
    {
     "output_type": "stream",
     "name": "stdout",
     "output_type": "stream",
     "text": [
      "+---------------+\n|Distinct Salary|\n+---------------+\n|              5|\n+---------------+\n\n"
     ]
    }
   ],
   "source": [
    "salary_data.select(countDistinct(\"Salary\").alias(\"Distinct Salary\")).show()"
   ]
  },
  {
   "cell_type": "code",
   "execution_count": 0,
   "metadata": {
    "application/vnd.databricks.v1+cell": {
     "cellMetadata": {
      "byteLimit": 2048000,
      "rowLimit": 10000
     },
     "inputWidgets": {},
     "nuid": "0d17be07-1395-470b-afec-93e6d3a8b893",
     "showTitle": true,
     "tableResultSettingsMap": {},
     "title": "Finding maximums (max)"
    }
   },
   "outputs": [
    {
     "output_type": "stream",
     "name": "stdout",
     "output_type": "stream",
     "text": [
      "+-----------+\n|max(Salary)|\n+-----------+\n|       4500|\n+-----------+\n\n"
     ]
    }
   ],
   "source": [
    "salary_data.agg({'Salary':'max'}).show() "
   ]
  },
  {
   "cell_type": "code",
   "execution_count": 0,
   "metadata": {
    "application/vnd.databricks.v1+cell": {
     "cellMetadata": {
      "byteLimit": 2048000,
      "rowLimit": 10000
     },
     "inputWidgets": {},
     "nuid": "dfb27aef-8f62-4c89-b005-e046bc924699",
     "showTitle": true,
     "tableResultSettingsMap": {},
     "title": "Sum"
    }
   },
   "outputs": [
    {
     "output_type": "stream",
     "name": "stdout",
     "output_type": "stream",
     "text": [
      "+-----------+\n|sum(Salary)|\n+-----------+\n|      35250|\n+-----------+\n\n"
     ]
    }
   ],
   "source": [
    "salary_data.agg({'Salary':'sum'}).show()"
   ]
  },
  {
   "cell_type": "code",
   "execution_count": 0,
   "metadata": {
    "application/vnd.databricks.v1+cell": {
     "cellMetadata": {
      "byteLimit": 2048000,
      "rowLimit": 10000
     },
     "inputWidgets": {},
     "nuid": "7d0b8f92-9d16-4cc4-9bc8-8b67db6befd6",
     "showTitle": true,
     "tableResultSettingsMap": {},
     "title": "Sort data with OrderBy"
    }
   },
   "outputs": [
    {
     "output_type": "stream",
     "name": "stdout",
     "output_type": "stream",
     "text": [
      "+--------+----------+------+\n|Employee|Department|Salary|\n+--------+----------+------+\n|   Kiran|     Sales|  2200|\n|    John|     Sales|  3000|\n|    John| Field-eng|  3500|\n|   Kelly|   Finance|  3500|\n|   Maria|   Finance|  3500|\n|  Martin|        HR|  3500|\n|  Robert|        HR|  3525|\n|    Kate|   Finance|  3525|\n| Michael| Field-eng|  4500|\n| Michael| Field-eng|  4500|\n+--------+----------+------+\n\n"
     ]
    }
   ],
   "source": [
    "salary_data.orderBy(\"Salary\").show()"
   ]
  },
  {
   "cell_type": "code",
   "execution_count": 0,
   "metadata": {
    "application/vnd.databricks.v1+cell": {
     "cellMetadata": {
      "byteLimit": 2048000,
      "rowLimit": 10000
     },
     "inputWidgets": {},
     "nuid": "021a9f0c-59f2-497e-adbe-f39a2f7b7b21",
     "showTitle": false,
     "tableResultSettingsMap": {},
     "title": ""
    }
   },
   "outputs": [
    {
     "output_type": "stream",
     "name": "stdout",
     "output_type": "stream",
     "text": [
      "+--------+----------+------+\n|Employee|Department|Salary|\n+--------+----------+------+\n| Michael| Field-eng|  4500|\n| Michael| Field-eng|  4500|\n|  Robert|        HR|  3525|\n|    Kate|   Finance|  3525|\n|    John| Field-eng|  3500|\n|   Kelly|   Finance|  3500|\n|   Maria|   Finance|  3500|\n|  Martin|        HR|  3500|\n|    John|     Sales|  3000|\n|   Kiran|     Sales|  2200|\n+--------+----------+------+\n\n"
     ]
    }
   ],
   "source": [
    "salary_data.orderBy(salary_data[\"Salary\"].desc()).show()"
   ]
  }
 ],
 "metadata": {
  "application/vnd.databricks.v1+notebook": {
   "computePreferences": null,
   "dashboards": [],
   "environmentMetadata": null,
   "inputWidgetPreferences": null,
   "language": "python",
   "notebookMetadata": {
    "mostRecentlyExecutedCommandWithImplicitDF": {
     "commandId": 5531086222518810,
     "dataframes": [
      "_sqldf"
     ]
    },
    "pythonIndentUnit": 2
   },
   "notebookName": "Chapter 1 _ Spark Dataframes and Operations Code",
   "widgets": {}
  },
  "language_info": {
   "name": "python"
  }
 },
 "nbformat": 4,
 "nbformat_minor": 0
}